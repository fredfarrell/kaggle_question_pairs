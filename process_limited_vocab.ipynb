{
 "cells": [
  {
   "cell_type": "code",
   "execution_count": 104,
   "metadata": {
    "collapsed": false
   },
   "outputs": [],
   "source": [
    "#this notebook takes the Kaggle question data and processes it,\n",
    "#removing rare words from the questions and replacing them with\n",
    "#'unknown word' tokens\n",
    "\n",
    "#the 'unknown' tokens are numbered within each question pair, so we\n",
    "#can tell if the unknown words are the same or different\n",
    "\n",
    "import numpy as np \n",
    "import pandas as pd\n",
    "import os, copy\n",
    "\n",
    "from keras.preprocessing import text\n",
    "from sklearn.model_selection import train_test_split\n",
    "\n",
    "from keras.preprocessing import sequence\n",
    "from keras.models import Sequential\n",
    "\n",
    "from keras.layers import Dense, Activation, Embedding\n",
    "from keras.layers import LSTM\n",
    "from keras.datasets import imdb\n",
    "from keras.optimizers import RMSprop\n",
    "from keras.engine.topology import Merge\n",
    "\n",
    "train_df = pd.read_csv('train_proc.csv',encoding='utf-8').fillna(\"\")\n",
    "train_df.head()\n",
    "\n",
    "X = train_df[['question1','question2']]\n",
    "y = train_df['is_duplicate']\n",
    "\n",
    "q1s = list(X['question1'].apply(lambda x: x.encode('utf-8'))) \n",
    "q2s = list(X['question2'].apply(lambda x: x.encode('utf-8')))\n",
    "all_questions = q1s + q2s\n",
    "\n",
    "tok = text.Tokenizer()\n",
    "tok.fit_on_texts(all_questions)"
   ]
  },
  {
   "cell_type": "code",
   "execution_count": 105,
   "metadata": {
    "collapsed": true
   },
   "outputs": [],
   "source": [
    "freq_words = [word for word in tok.word_index if tok.word_counts[word]>100]"
   ]
  },
  {
   "cell_type": "code",
   "execution_count": 110,
   "metadata": {
    "collapsed": false
   },
   "outputs": [
    {
     "data": {
      "text/plain": [
       "'!\"#$%&()*+,-.:;<=>?@[\\\\]^_`{|}~'"
      ]
     },
     "execution_count": 110,
     "metadata": {},
     "output_type": "execute_result"
    }
   ],
   "source": [
    "import string\n",
    "\n",
    "punc = string.punctuation.translate(None,\"'/\") #we allow apostrophes (for the word \"'s\") and slashes\n",
    "punc"
   ]
  },
  {
   "cell_type": "code",
   "execution_count": 111,
   "metadata": {
    "collapsed": true
   },
   "outputs": [],
   "source": [
    "def process_qs(x1,x2):\n",
    "    \n",
    "    x1 = x1.lower().translate(None,punc).split(' ')\n",
    "    x2 = x2.lower().translate(None,punc).split(' ')\n",
    "    \n",
    "    ctr=0\n",
    "    seen=[]\n",
    "    \n",
    "    for i,word in enumerate(x1):\n",
    "        if word not in freq_words:\n",
    "            \n",
    "            if word not in seen:\n",
    "                ctr=ctr+1\n",
    "                seen.append(word)\n",
    "                x1[i]='unknownword' + str(ctr)\n",
    "            else:\n",
    "                x1[i] = 'unknownword' + str(seen.index(word)+1)\n",
    "            \n",
    "    for i, word in enumerate(x2):\n",
    "        if word not in freq_words:\n",
    "            \n",
    "            if word not in seen:\n",
    "                ctr=ctr+1\n",
    "                seen.append(word)\n",
    "                x2[i]='unknownword' + str(ctr)\n",
    "            else:\n",
    "                x2[i] = 'unknownword' + str(seen.index(word) + 1)\n",
    "\n",
    "    return x1,x2    "
   ]
  },
  {
   "cell_type": "code",
   "execution_count": 112,
   "metadata": {
    "collapsed": false
   },
   "outputs": [
    {
     "name": "stdout",
     "output_type": "stream",
     "text": [
      "(['what', 'is', 'the', 'meaning', 'of', 'unknownword1', 'where', 'can', 'a', 'unknownword2', 'buy', 'unknownword1'], ['why', 'do', 'unknownword3', 'talk', 'about', 'unknownword1', 'so', 'much', 'why', 'are', 'unknownword3', 'so', 'unknownword4'])\n"
     ]
    }
   ],
   "source": [
    "test_qs = ['What is the meaning of fnarps? Where can a snergle buy fnarps?', 'Why do snergles talk about fnarps so much? Why are snergles so sqift?']\n",
    "print (process_qs(*test_qs))"
   ]
  },
  {
   "cell_type": "code",
   "execution_count": 113,
   "metadata": {
    "collapsed": false
   },
   "outputs": [
    {
     "data": {
      "text/plain": [
       "0"
      ]
     },
     "execution_count": 113,
     "metadata": {},
     "output_type": "execute_result"
    }
   ],
   "source": [
    "seen = ['fnarps','snergle']\n",
    "seen.index('fnarps')"
   ]
  },
  {
   "cell_type": "code",
   "execution_count": 114,
   "metadata": {
    "collapsed": false
   },
   "outputs": [],
   "source": [
    "processed_qs = [process_qs(i,j) for i,j in zip(q1s,q2s)]"
   ]
  },
  {
   "cell_type": "code",
   "execution_count": 115,
   "metadata": {
    "collapsed": false
   },
   "outputs": [
    {
     "data": {
      "text/plain": [
       "(['what',\n",
       "  'is',\n",
       "  'the',\n",
       "  'story',\n",
       "  'of',\n",
       "  'unknownword1',\n",
       "  'unknownword1',\n",
       "  'diamond'],\n",
       " ['what',\n",
       "  'would',\n",
       "  'happen',\n",
       "  'if',\n",
       "  'the',\n",
       "  'indian',\n",
       "  'government',\n",
       "  'unknownword2',\n",
       "  'the',\n",
       "  'unknownword1',\n",
       "  'unknownword1',\n",
       "  'diamond',\n",
       "  'back'])"
      ]
     },
     "execution_count": 115,
     "metadata": {},
     "output_type": "execute_result"
    }
   ],
   "source": [
    "processed_qs[1]"
   ]
  },
  {
   "cell_type": "code",
   "execution_count": 116,
   "metadata": {
    "collapsed": false
   },
   "outputs": [
    {
     "name": "stdout",
     "output_type": "stream",
     "text": [
      "('What is the story of Kohinoor (Koh-i-Noor) Diamond?', 'What would happen if the Indian government stole the Kohinoor (Koh-i-Noor) diamond back?')\n"
     ]
    }
   ],
   "source": [
    "print(q1s[1],q2s[1])"
   ]
  },
  {
   "cell_type": "code",
   "execution_count": 117,
   "metadata": {
    "collapsed": false
   },
   "outputs": [],
   "source": [
    "processed_qs_str = [[' '.join(k) for k in pair] for pair in processed_qs]"
   ]
  },
  {
   "cell_type": "code",
   "execution_count": 118,
   "metadata": {
    "collapsed": false
   },
   "outputs": [
    {
     "data": {
      "text/plain": [
       "['what is the step by step guide to invest in share market in india',\n",
       " 'what is the step by step guide to invest in share market']"
      ]
     },
     "execution_count": 118,
     "metadata": {},
     "output_type": "execute_result"
    }
   ],
   "source": [
    "processed_qs_str[0]"
   ]
  },
  {
   "cell_type": "code",
   "execution_count": 119,
   "metadata": {
    "collapsed": true
   },
   "outputs": [],
   "source": [
    "df = pd.DataFrame(processed_qs_str)\n",
    "df.columns = ['q1','q2']"
   ]
  },
  {
   "cell_type": "code",
   "execution_count": 120,
   "metadata": {
    "collapsed": false
   },
   "outputs": [
    {
     "data": {
      "text/html": [
       "<div style=\"max-height:1000px;max-width:1500px;overflow:auto;\">\n",
       "<table border=\"1\" class=\"dataframe\">\n",
       "  <thead>\n",
       "    <tr style=\"text-align: right;\">\n",
       "      <th></th>\n",
       "      <th>q1</th>\n",
       "      <th>q2</th>\n",
       "    </tr>\n",
       "  </thead>\n",
       "  <tbody>\n",
       "    <tr>\n",
       "      <th>0</th>\n",
       "      <td> what is the step by step guide to invest in sh...</td>\n",
       "      <td> what is the step by step guide to invest in sh...</td>\n",
       "    </tr>\n",
       "    <tr>\n",
       "      <th>1</th>\n",
       "      <td> what is the story of unknownword1 unknownword1...</td>\n",
       "      <td> what would happen if the indian government unk...</td>\n",
       "    </tr>\n",
       "    <tr>\n",
       "      <th>2</th>\n",
       "      <td> how can i increase the speed of my internet co...</td>\n",
       "      <td> how can internet speed be increased by hacking...</td>\n",
       "    </tr>\n",
       "    <tr>\n",
       "      <th>3</th>\n",
       "      <td>  why am i mentally very lonely how can i solve it</td>\n",
       "      <td> find the remainder when unknownword1 unknownwo...</td>\n",
       "    </tr>\n",
       "    <tr>\n",
       "      <th>4</th>\n",
       "      <td> which one unknownword1 in water unknownword2 s...</td>\n",
       "      <td>            which fish would survive in salt water</td>\n",
       "    </tr>\n",
       "  </tbody>\n",
       "</table>\n",
       "</div>"
      ],
      "text/plain": [
       "                                                  q1  \\\n",
       "0  what is the step by step guide to invest in sh...   \n",
       "1  what is the story of unknownword1 unknownword1...   \n",
       "2  how can i increase the speed of my internet co...   \n",
       "3   why am i mentally very lonely how can i solve it   \n",
       "4  which one unknownword1 in water unknownword2 s...   \n",
       "\n",
       "                                                  q2  \n",
       "0  what is the step by step guide to invest in sh...  \n",
       "1  what would happen if the indian government unk...  \n",
       "2  how can internet speed be increased by hacking...  \n",
       "3  find the remainder when unknownword1 unknownwo...  \n",
       "4             which fish would survive in salt water  "
      ]
     },
     "execution_count": 120,
     "metadata": {},
     "output_type": "execute_result"
    }
   ],
   "source": [
    "df.head()"
   ]
  },
  {
   "cell_type": "code",
   "execution_count": 121,
   "metadata": {
    "collapsed": false
   },
   "outputs": [
    {
     "data": {
      "text/html": [
       "<div style=\"max-height:1000px;max-width:1500px;overflow:auto;\">\n",
       "<table border=\"1\" class=\"dataframe\">\n",
       "  <thead>\n",
       "    <tr style=\"text-align: right;\">\n",
       "      <th></th>\n",
       "      <th>question1_uk</th>\n",
       "      <th>question2_uk</th>\n",
       "      <th>id</th>\n",
       "      <th>qid1</th>\n",
       "      <th>qid2</th>\n",
       "      <th>question1</th>\n",
       "      <th>question2</th>\n",
       "      <th>is_duplicate</th>\n",
       "    </tr>\n",
       "  </thead>\n",
       "  <tbody>\n",
       "    <tr>\n",
       "      <th>0</th>\n",
       "      <td> what is the step by step guide to invest in sh...</td>\n",
       "      <td> what is the step by step guide to invest in sh...</td>\n",
       "      <td> 0</td>\n",
       "      <td> 1</td>\n",
       "      <td>  2</td>\n",
       "      <td> What is the step by step guide to invest in sh...</td>\n",
       "      <td> What is the step by step guide to invest in sh...</td>\n",
       "      <td> 0</td>\n",
       "    </tr>\n",
       "    <tr>\n",
       "      <th>1</th>\n",
       "      <td> what is the story of unknownword1 unknownword1...</td>\n",
       "      <td> what would happen if the indian government unk...</td>\n",
       "      <td> 1</td>\n",
       "      <td> 3</td>\n",
       "      <td>  4</td>\n",
       "      <td> What is the story of Kohinoor (Koh-i-Noor) Dia...</td>\n",
       "      <td> What would happen if the Indian government sto...</td>\n",
       "      <td> 0</td>\n",
       "    </tr>\n",
       "    <tr>\n",
       "      <th>2</th>\n",
       "      <td> how can i increase the speed of my internet co...</td>\n",
       "      <td> how can internet speed be increased by hacking...</td>\n",
       "      <td> 2</td>\n",
       "      <td> 5</td>\n",
       "      <td>  6</td>\n",
       "      <td> How can I increase the speed of my internet co...</td>\n",
       "      <td> How can Internet speed be increased by hacking...</td>\n",
       "      <td> 0</td>\n",
       "    </tr>\n",
       "    <tr>\n",
       "      <th>3</th>\n",
       "      <td>  why am i mentally very lonely how can i solve it</td>\n",
       "      <td> find the remainder when unknownword1 unknownwo...</td>\n",
       "      <td> 3</td>\n",
       "      <td> 7</td>\n",
       "      <td>  8</td>\n",
       "      <td> Why am I mentally very lonely? How can I solve...</td>\n",
       "      <td> Find the remainder when [math]23^{24}[ / math]...</td>\n",
       "      <td> 0</td>\n",
       "    </tr>\n",
       "    <tr>\n",
       "      <th>4</th>\n",
       "      <td> which one unknownword1 in water unknownword2 s...</td>\n",
       "      <td>            which fish would survive in salt water</td>\n",
       "      <td> 4</td>\n",
       "      <td> 9</td>\n",
       "      <td> 10</td>\n",
       "      <td> Which one dissolve in water quikly sugar, salt...</td>\n",
       "      <td>           Which fish would survive in salt water?</td>\n",
       "      <td> 0</td>\n",
       "    </tr>\n",
       "  </tbody>\n",
       "</table>\n",
       "</div>"
      ],
      "text/plain": [
       "                                        question1_uk  \\\n",
       "0  what is the step by step guide to invest in sh...   \n",
       "1  what is the story of unknownword1 unknownword1...   \n",
       "2  how can i increase the speed of my internet co...   \n",
       "3   why am i mentally very lonely how can i solve it   \n",
       "4  which one unknownword1 in water unknownword2 s...   \n",
       "\n",
       "                                        question2_uk  id  qid1  qid2  \\\n",
       "0  what is the step by step guide to invest in sh...   0     1     2   \n",
       "1  what would happen if the indian government unk...   1     3     4   \n",
       "2  how can internet speed be increased by hacking...   2     5     6   \n",
       "3  find the remainder when unknownword1 unknownwo...   3     7     8   \n",
       "4             which fish would survive in salt water   4     9    10   \n",
       "\n",
       "                                           question1  \\\n",
       "0  What is the step by step guide to invest in sh...   \n",
       "1  What is the story of Kohinoor (Koh-i-Noor) Dia...   \n",
       "2  How can I increase the speed of my internet co...   \n",
       "3  Why am I mentally very lonely? How can I solve...   \n",
       "4  Which one dissolve in water quikly sugar, salt...   \n",
       "\n",
       "                                           question2  is_duplicate  \n",
       "0  What is the step by step guide to invest in sh...             0  \n",
       "1  What would happen if the Indian government sto...             0  \n",
       "2  How can Internet speed be increased by hacking...             0  \n",
       "3  Find the remainder when [math]23^{24}[ / math]...             0  \n",
       "4            Which fish would survive in salt water?             0  "
      ]
     },
     "execution_count": 121,
     "metadata": {},
     "output_type": "execute_result"
    }
   ],
   "source": [
    "df.columns = ['question1_uk','question2_uk']\n",
    "df = df.join(train_df)\n",
    "df.head()"
   ]
  },
  {
   "cell_type": "code",
   "execution_count": 122,
   "metadata": {
    "collapsed": false
   },
   "outputs": [],
   "source": [
    "df[['question1_uk','question2_uk','is_duplicate']].to_csv('training_unknowns.csv')"
   ]
  },
  {
   "cell_type": "code",
   "execution_count": 123,
   "metadata": {
    "collapsed": false
   },
   "outputs": [
    {
     "data": {
      "text/plain": [
       "5578"
      ]
     },
     "execution_count": 123,
     "metadata": {},
     "output_type": "execute_result"
    }
   ],
   "source": [
    "len(freq_words)"
   ]
  },
  {
   "cell_type": "code",
   "execution_count": 132,
   "metadata": {
    "collapsed": true
   },
   "outputs": [],
   "source": [
    "#now do test set\n",
    "\n",
    "test_df = pd.read_csv('test_proc.csv',encoding='utf-8').fillna(\"\")\n",
    "X = test_df[['question1','question2']]\n",
    "\n",
    "q1s = list(X['question1'].apply(lambda x: x.encode('utf-8'))) \n",
    "q2s = list(X['question2'].apply(lambda x: x.encode('utf-8')))\n",
    "\n",
    "processed_qs = [process_qs(i,j) for i,j in zip(q1s,q2s)]"
   ]
  },
  {
   "cell_type": "code",
   "execution_count": 133,
   "metadata": {
    "collapsed": true
   },
   "outputs": [],
   "source": [
    "processed_qs_str = [[' '.join(k) for k in pair] for pair in processed_qs]"
   ]
  },
  {
   "cell_type": "code",
   "execution_count": 135,
   "metadata": {
    "collapsed": false
   },
   "outputs": [],
   "source": [
    "df = pd.DataFrame(processed_qs_str)\n",
    "df.columns = ['q1','q2']\n",
    "\n",
    "df.to_csv('test_unknowns.csv',index=False)"
   ]
  },
  {
   "cell_type": "code",
   "execution_count": 131,
   "metadata": {
    "collapsed": false
   },
   "outputs": [
    {
     "data": {
      "text/plain": [
       "404290"
      ]
     },
     "execution_count": 131,
     "metadata": {},
     "output_type": "execute_result"
    }
   ],
   "source": [
    "len(processed_qs)"
   ]
  },
  {
   "cell_type": "code",
   "execution_count": null,
   "metadata": {
    "collapsed": true
   },
   "outputs": [],
   "source": []
  }
 ],
 "metadata": {
  "kernelspec": {
   "display_name": "Python 2",
   "language": "python",
   "name": "python2"
  },
  "language_info": {
   "codemirror_mode": {
    "name": "ipython",
    "version": 2
   },
   "file_extension": ".py",
   "mimetype": "text/x-python",
   "name": "python",
   "nbconvert_exporter": "python",
   "pygments_lexer": "ipython2",
   "version": "2.7.6"
  }
 },
 "nbformat": 4,
 "nbformat_minor": 2
}
