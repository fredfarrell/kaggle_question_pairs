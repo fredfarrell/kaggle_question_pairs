{
 "cells": [
  {
   "cell_type": "code",
   "execution_count": 1,
   "metadata": {
    "collapsed": false
   },
   "outputs": [],
   "source": [
    "import numpy as np # linear algebra\n",
    "import pandas as pd # data processing, CSV file I/O (e.g. pd.read_csv)\n",
    "import matplotlib.pyplot as plt\n",
    "import seaborn as sns\n",
    "from nltk.corpus import stopwords\n",
    "from nltk import word_tokenize, ngrams\n",
    "from sklearn import ensemble\n",
    "from sklearn.model_selection import KFold\n",
    "from sklearn.metrics import log_loss\n",
    "\n",
    "eng_stopwords = set(stopwords.words('english'))\n",
    "color = sns.color_palette()\n",
    "\n",
    "%matplotlib inline\n",
    "\n",
    "pd.options.mode.chained_assignment = None  # default='warn'"
   ]
  },
  {
   "cell_type": "code",
   "execution_count": 6,
   "metadata": {
    "collapsed": false
   },
   "outputs": [
    {
     "data": {
      "text/html": [
       "<div style=\"max-height:1000px;max-width:1500px;overflow:auto;\">\n",
       "<table border=\"1\" class=\"dataframe\">\n",
       "  <thead>\n",
       "    <tr style=\"text-align: right;\">\n",
       "      <th></th>\n",
       "      <th>id</th>\n",
       "      <th>qid1</th>\n",
       "      <th>qid2</th>\n",
       "      <th>question1</th>\n",
       "      <th>question2</th>\n",
       "      <th>is_duplicate</th>\n",
       "    </tr>\n",
       "  </thead>\n",
       "  <tbody>\n",
       "    <tr>\n",
       "      <th>0</th>\n",
       "      <td> 0</td>\n",
       "      <td> 1</td>\n",
       "      <td>  2</td>\n",
       "      <td> What is the step by step guide to invest in sh...</td>\n",
       "      <td> What is the step by step guide to invest in sh...</td>\n",
       "      <td> 0</td>\n",
       "    </tr>\n",
       "    <tr>\n",
       "      <th>1</th>\n",
       "      <td> 1</td>\n",
       "      <td> 3</td>\n",
       "      <td>  4</td>\n",
       "      <td> What is the story of Kohinoor (Koh-i-Noor) Dia...</td>\n",
       "      <td> What would happen if the Indian government sto...</td>\n",
       "      <td> 0</td>\n",
       "    </tr>\n",
       "    <tr>\n",
       "      <th>2</th>\n",
       "      <td> 2</td>\n",
       "      <td> 5</td>\n",
       "      <td>  6</td>\n",
       "      <td> How can I increase the speed of my internet co...</td>\n",
       "      <td> How can Internet speed be increased by hacking...</td>\n",
       "      <td> 0</td>\n",
       "    </tr>\n",
       "    <tr>\n",
       "      <th>3</th>\n",
       "      <td> 3</td>\n",
       "      <td> 7</td>\n",
       "      <td>  8</td>\n",
       "      <td> Why am I mentally very lonely? How can I solve...</td>\n",
       "      <td> Find the remainder when [math]23^{24}[/math] i...</td>\n",
       "      <td> 0</td>\n",
       "    </tr>\n",
       "    <tr>\n",
       "      <th>4</th>\n",
       "      <td> 4</td>\n",
       "      <td> 9</td>\n",
       "      <td> 10</td>\n",
       "      <td> Which one dissolve in water quikly sugar, salt...</td>\n",
       "      <td>           Which fish would survive in salt water?</td>\n",
       "      <td> 0</td>\n",
       "    </tr>\n",
       "  </tbody>\n",
       "</table>\n",
       "</div>"
      ],
      "text/plain": [
       "   id  qid1  qid2                                          question1  \\\n",
       "0   0     1     2  What is the step by step guide to invest in sh...   \n",
       "1   1     3     4  What is the story of Kohinoor (Koh-i-Noor) Dia...   \n",
       "2   2     5     6  How can I increase the speed of my internet co...   \n",
       "3   3     7     8  Why am I mentally very lonely? How can I solve...   \n",
       "4   4     9    10  Which one dissolve in water quikly sugar, salt...   \n",
       "\n",
       "                                           question2  is_duplicate  \n",
       "0  What is the step by step guide to invest in sh...             0  \n",
       "1  What would happen if the Indian government sto...             0  \n",
       "2  How can Internet speed be increased by hacking...             0  \n",
       "3  Find the remainder when [math]23^{24}[/math] i...             0  \n",
       "4            Which fish would survive in salt water?             0  "
      ]
     },
     "execution_count": 6,
     "metadata": {},
     "output_type": "execute_result"
    }
   ],
   "source": [
    "train_df = pd.read_csv('train.csv',encoding='utf-8').fillna(\"\")\n",
    "train_df.head()"
   ]
  },
  {
   "cell_type": "code",
   "execution_count": 15,
   "metadata": {
    "collapsed": false
   },
   "outputs": [
    {
     "data": {
      "text/html": [
       "<div style=\"max-height:1000px;max-width:1500px;overflow:auto;\">\n",
       "<table border=\"1\" class=\"dataframe\">\n",
       "  <thead>\n",
       "    <tr style=\"text-align: right;\">\n",
       "      <th></th>\n",
       "      <th>id</th>\n",
       "      <th>qid1</th>\n",
       "      <th>qid2</th>\n",
       "      <th>question1</th>\n",
       "      <th>question2</th>\n",
       "      <th>is_duplicate</th>\n",
       "      <th>unigrams_ques1</th>\n",
       "      <th>unigrams_ques2</th>\n",
       "      <th>unigrams_common_count</th>\n",
       "      <th>unigrams_common_ratio</th>\n",
       "    </tr>\n",
       "  </thead>\n",
       "  <tbody>\n",
       "    <tr>\n",
       "      <th>0</th>\n",
       "      <td> 0</td>\n",
       "      <td> 1</td>\n",
       "      <td>  2</td>\n",
       "      <td> What is the step by step guide to invest in sh...</td>\n",
       "      <td> What is the step by step guide to invest in sh...</td>\n",
       "      <td> 0</td>\n",
       "      <td> [step, step, guide, invest, share, market, ind...</td>\n",
       "      <td>     [step, step, guide, invest, share, market, ?]</td>\n",
       "      <td> 6</td>\n",
       "      <td> 0.857143</td>\n",
       "    </tr>\n",
       "    <tr>\n",
       "      <th>1</th>\n",
       "      <td> 1</td>\n",
       "      <td> 3</td>\n",
       "      <td>  4</td>\n",
       "      <td> What is the story of Kohinoor (Koh-i-Noor) Dia...</td>\n",
       "      <td> What would happen if the Indian government sto...</td>\n",
       "      <td> 0</td>\n",
       "      <td>   [story, kohinoor, (, koh-i-noor, ), diamond, ?]</td>\n",
       "      <td> [would, happen, indian, government, stole, koh...</td>\n",
       "      <td> 6</td>\n",
       "      <td> 0.461538</td>\n",
       "    </tr>\n",
       "    <tr>\n",
       "      <th>2</th>\n",
       "      <td> 2</td>\n",
       "      <td> 5</td>\n",
       "      <td>  6</td>\n",
       "      <td> How can I increase the speed of my internet co...</td>\n",
       "      <td> How can Internet speed be increased by hacking...</td>\n",
       "      <td> 0</td>\n",
       "      <td> [increase, speed, internet, connection, using,...</td>\n",
       "      <td>     [internet, speed, increased, hacking, dns, ?]</td>\n",
       "      <td> 3</td>\n",
       "      <td> 0.300000</td>\n",
       "    </tr>\n",
       "    <tr>\n",
       "      <th>3</th>\n",
       "      <td> 3</td>\n",
       "      <td> 7</td>\n",
       "      <td>  8</td>\n",
       "      <td> Why am I mentally very lonely? How can I solve...</td>\n",
       "      <td> Find the remainder when [math]23^{24}[/math] i...</td>\n",
       "      <td> 0</td>\n",
       "      <td>                   [mentally, lonely, ?, solve, ?]</td>\n",
       "      <td> [find, remainder, [, math, ], 23^, {, 24, }, [...</td>\n",
       "      <td> 1</td>\n",
       "      <td> 0.062500</td>\n",
       "    </tr>\n",
       "    <tr>\n",
       "      <th>4</th>\n",
       "      <td> 4</td>\n",
       "      <td> 9</td>\n",
       "      <td> 10</td>\n",
       "      <td> Which one dissolve in water quikly sugar, salt...</td>\n",
       "      <td>           Which fish would survive in salt water?</td>\n",
       "      <td> 0</td>\n",
       "      <td> [one, dissolve, water, quikly, sugar, ,, salt,...</td>\n",
       "      <td>            [fish, would, survive, salt, water, ?]</td>\n",
       "      <td> 3</td>\n",
       "      <td> 0.200000</td>\n",
       "    </tr>\n",
       "  </tbody>\n",
       "</table>\n",
       "</div>"
      ],
      "text/plain": [
       "   id  qid1  qid2                                          question1  \\\n",
       "0   0     1     2  What is the step by step guide to invest in sh...   \n",
       "1   1     3     4  What is the story of Kohinoor (Koh-i-Noor) Dia...   \n",
       "2   2     5     6  How can I increase the speed of my internet co...   \n",
       "3   3     7     8  Why am I mentally very lonely? How can I solve...   \n",
       "4   4     9    10  Which one dissolve in water quikly sugar, salt...   \n",
       "\n",
       "                                           question2  is_duplicate  \\\n",
       "0  What is the step by step guide to invest in sh...             0   \n",
       "1  What would happen if the Indian government sto...             0   \n",
       "2  How can Internet speed be increased by hacking...             0   \n",
       "3  Find the remainder when [math]23^{24}[/math] i...             0   \n",
       "4            Which fish would survive in salt water?             0   \n",
       "\n",
       "                                      unigrams_ques1  \\\n",
       "0  [step, step, guide, invest, share, market, ind...   \n",
       "1    [story, kohinoor, (, koh-i-noor, ), diamond, ?]   \n",
       "2  [increase, speed, internet, connection, using,...   \n",
       "3                    [mentally, lonely, ?, solve, ?]   \n",
       "4  [one, dissolve, water, quikly, sugar, ,, salt,...   \n",
       "\n",
       "                                      unigrams_ques2  unigrams_common_count  \\\n",
       "0      [step, step, guide, invest, share, market, ?]                      6   \n",
       "1  [would, happen, indian, government, stole, koh...                      6   \n",
       "2      [internet, speed, increased, hacking, dns, ?]                      3   \n",
       "3  [find, remainder, [, math, ], 23^, {, 24, }, [...                      1   \n",
       "4             [fish, would, survive, salt, water, ?]                      3   \n",
       "\n",
       "   unigrams_common_ratio  \n",
       "0               0.857143  \n",
       "1               0.461538  \n",
       "2               0.300000  \n",
       "3               0.062500  \n",
       "4               0.200000  "
      ]
     },
     "execution_count": 15,
     "metadata": {},
     "output_type": "execute_result"
    }
   ],
   "source": [
    "#try word share, unigrams & c \n",
    "\n",
    "def get_unigrams(que):\n",
    "    return [word for word in word_tokenize(que.lower()) if word not in eng_stopwords]\n",
    "\n",
    "def get_common_unigrams(row):\n",
    "    return len( set(row[\"unigrams_ques1\"]).intersection(set(row[\"unigrams_ques2\"])) )\n",
    "\n",
    "def get_common_unigram_ratio(row):\n",
    "    return float(row[\"unigrams_common_count\"]) / max(len( set(row[\"unigrams_ques1\"]).union(set(row[\"unigrams_ques2\"])) ),1)\n",
    "\n",
    "train_df[\"unigrams_ques1\"] = train_df['question1'].apply(lambda x: get_unigrams(x))\n",
    "train_df[\"unigrams_ques2\"] = train_df['question2'].apply(lambda x: get_unigrams(x))\n",
    "train_df[\"unigrams_common_count\"] = train_df.apply(lambda row: get_common_unigrams(row),axis=1)\n",
    "train_df[\"unigrams_common_ratio\"] = train_df.apply(lambda row: get_common_unigram_ratio(row), axis=1)\n",
    "train_df.head()"
   ]
  },
  {
   "cell_type": "code",
   "execution_count": 23,
   "metadata": {
    "collapsed": false
   },
   "outputs": [
    {
     "name": "stdout",
     "output_type": "stream",
     "text": [
      "Train accuracy:  0.649808552951\n",
      "Test accuracy:  0.654220217071\n",
      "All 0s:  0.629961380793\n"
     ]
    }
   ],
   "source": [
    "#make a quick 'model' using just the unigram ratio\n",
    "\n",
    "from sklearn.linear_model import LogisticRegression\n",
    "from sklearn.model_selection import train_test_split\n",
    "from sklearn.metrics import accuracy_score, classification_report,log_loss\n",
    "\n",
    "clf = LogisticRegression()\n",
    "X = train_df[['unigrams_common_ratio']]\n",
    "y = train_df['is_duplicate']\n",
    "\n",
    "X_train, X_test, y_train, y_test = train_test_split(X,y)\n",
    "\n",
    "clf.fit(X_train,y_train)\n",
    "preds_train = clf.predict(X_train)\n",
    "preds_test = clf.predict(X_test)\n",
    "\n",
    "print \"Train accuracy: \", accuracy_score(preds_train,y_train)\n",
    "print \"Test accuracy: \", accuracy_score(preds_test,y_test)\n",
    "print \"All 0s: \", accuracy_score([0]*len(y_train),y_train)\n"
   ]
  },
  {
   "cell_type": "code",
   "execution_count": 28,
   "metadata": {
    "collapsed": false
   },
   "outputs": [
    {
     "name": "stdout",
     "output_type": "stream",
     "text": [
      "('Log loss: ', 0.57220478458507174)\n"
     ]
    }
   ],
   "source": [
    "#get the log-loss on the training set\n",
    "\n",
    "probs = clf.predict_proba(X_test)\n",
    "print(\"Log loss: \", log_loss(y_test, probs))"
   ]
  },
  {
   "cell_type": "code",
   "execution_count": null,
   "metadata": {
    "collapsed": true
   },
   "outputs": [],
   "source": []
  }
 ],
 "metadata": {
  "kernelspec": {
   "display_name": "Python 2",
   "language": "python",
   "name": "python2"
  },
  "language_info": {
   "codemirror_mode": {
    "name": "ipython",
    "version": 2
   },
   "file_extension": ".py",
   "mimetype": "text/x-python",
   "name": "python",
   "nbconvert_exporter": "python",
   "pygments_lexer": "ipython2",
   "version": "2.7.6"
  }
 },
 "nbformat": 4,
 "nbformat_minor": 2
}
